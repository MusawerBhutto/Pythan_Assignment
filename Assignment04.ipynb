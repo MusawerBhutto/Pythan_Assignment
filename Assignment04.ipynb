{
 "cells": [
  {
   "cell_type": "code",
   "execution_count": 1,
   "metadata": {},
   "outputs": [
    {
     "name": "stdout",
     "output_type": "stream",
     "text": [
      "{'first_name': 'abdul', 'last_name': 'musawer', 'age': '18', 'city': 'karachi', 'qualification': 'BSCS'}\n",
      "{'first_name': 'abdul', 'last_name': 'musawer', 'age': '18', 'city': 'karachi', 'qualification': 'Master'}\n",
      "{'first_name': 'abdul', 'last_name': 'musawer', 'age': '18', 'city': 'karachi'}\n"
     ]
    }
   ],
   "source": [
    "#Question No# 1\n",
    "\n",
    "info = {\n",
    "     \n",
    "        \"first_name\":\"abdul\",\n",
    "        \"last_name\":\"musawer\",\n",
    "        \"age\":\"18\",\n",
    "        \"city\":\"karachi\"        \n",
    "    }\n",
    "info.update({\"qualification\":\"BSCS\"})#After add qualification key: \n",
    "print(info)\n",
    "info.update({\"qualification\":\"Master\"})#After update qualification key:\n",
    "print(info)\n",
    "del info[\"qualification\"]#After delete qualification key:\n",
    "print(info)"
   ]
  },
  {
   "cell_type": "code",
   "execution_count": 4,
   "metadata": {},
   "outputs": [
    {
     "name": "stdout",
     "output_type": "stream",
     "text": [
      "we have four cities in dictionary \n",
      "\n",
      "{'information': {'country': 'pakistan', 'population': '14.91', 'fact': \"karachi is vital to pakistan's economy\"}} \n",
      "\n",
      "\t--------------------------------------------------------------------------\n",
      "\n",
      "{'information': {'country': 'saudi arabia', 'population': '3.431 million', 'fact': 'it is the largest city in makkah province'}} \n",
      "\n",
      "\t--------------------------------------------------------------------------\n",
      "\n",
      "{'information': {'country': 'iran', 'population': '237,528', 'fact': 'amol is one of the largest city in northern iran'}} \n",
      "\n",
      "\t--------------------------------------------------------------------------\n",
      "\n",
      "{'information': {'country': 'afghanistan', 'population': '4.6 million', 'fact': 'kabul has an average elevation of 5.876 feet about the sea level'}} \n",
      "\n",
      "\t--------------------------------------------------------------------------\n",
      "\n"
     ]
    }
   ],
   "source": [
    "#Question No# 2\n",
    "\n",
    "cities = {\n",
    "    \"karachi_city\":{\n",
    "        \"information\":{\n",
    "            \"country\":\"pakistan\",\n",
    "            \"population\":\"14.91\",\n",
    "            \"fact\":\"karachi is vital to pakistan's economy\"\n",
    "        }\n",
    "    },\n",
    "    \"jeddah_city\":{\n",
    "        \"information\":{\n",
    "            \"country\":\"saudi arabia\",\n",
    "            \"population\":\"3.431 million\",\n",
    "            \"fact\":\"it is the largest city in makkah province\"\n",
    "        }\n",
    "    },\n",
    "    \"amol_city\":{\n",
    "        \"information\":{\n",
    "            \"country\":\"iran\",\n",
    "            \"population\":\"237,528\",\n",
    "            \"fact\":\"amol is one of the largest city in northern iran\"\n",
    "        }\n",
    "    },\n",
    "    \"kabul_city\":{\n",
    "        \"information\":{\n",
    "            \"country\":\"afghanistan\",\n",
    "            \"population\":\"4.6 million\",\n",
    "            \"fact\":\"kabul has an average elevation of 5.876 feet about the sea level\"\n",
    "        }\n",
    "    }\n",
    "}\n",
    "print(\"we have four cities in dictionary \\n\")\n",
    "karachi = cities[\"karachi_city\"]\n",
    "print(karachi,\"\\n\\n\\t--------------------------------------------------------------------------\\n\")\n",
    "jeddah = cities[\"jeddah_city\"]\n",
    "print(jeddah,\"\\n\\n\\t--------------------------------------------------------------------------\\n\")\n",
    "amol = cities[\"amol_city\"]\n",
    "print(amol,\"\\n\\n\\t--------------------------------------------------------------------------\\n\")\n",
    "kabul = cities[\"kabul_city\"]\n",
    "print(kabul,\"\\n\\n\\t--------------------------------------------------------------------------\\n\")"
   ]
  },
  {
   "cell_type": "code",
   "execution_count": 5,
   "metadata": {},
   "outputs": [
    {
     "name": "stdout",
     "output_type": "stream",
     "text": [
      "Wellcome to cenima\n",
      "How many person you are: 4\n",
      "enter age: 6\n",
      "your ticket price will be 10$: \n",
      "enter age: 20\n",
      "your ticket price is will be 15$: \n",
      "enter age: 10\n",
      "your ticket price will be 10$: \n",
      "enter age: 22\n",
      "your ticket price is will be 15$: \n",
      "Tootal price: 50\n"
     ]
    }
   ],
   "source": [
    "#Question No# 3\n",
    "\n",
    "print(\"Wellcome to cenima\")\n",
    "pre = int(input(\"How many person you are: \"))\n",
    "cost = 0\n",
    "\n",
    "for c in range(1,pre+1):\n",
    "    age = int(input(\"enter age: \"))\n",
    "    if age <= 3 and pre == 1:\n",
    "        print(\"You are not allow\")\n",
    "    elif age <= 12 and age >= 3:\n",
    "        print(\"your ticket price will be 10$: \")\n",
    "        cost += 10\n",
    "    elif age >= 12:\n",
    "        print(\"your ticket price is will be 15$: \")\n",
    "        cost += 15\n",
    "print(\"Tootal price: \"+str(cost))"
   ]
  },
  {
   "cell_type": "code",
   "execution_count": 7,
   "metadata": {},
   "outputs": [
    {
     "name": "stdout",
     "output_type": "stream",
     "text": [
      "one of the favorit book is alcie\n"
     ]
    }
   ],
   "source": [
    "#Question 4\n",
    "\n",
    "def favorite_book(title):\n",
    "    print(\"one of the favorit book is\",title)\n",
    "\n",
    "favorite_book(title=\"alcie\")    "
   ]
  },
  {
   "cell_type": "code",
   "execution_count": 9,
   "metadata": {},
   "outputs": [
    {
     "name": "stdout",
     "output_type": "stream",
     "text": [
      "Guess the number (game)\n",
      "you have three chance to win this game.\n",
      "Enter any number between 1 to 30 \n",
      "15\n",
      "numberr is less than <  15\n",
      "Enter any number between 1 to 30 \n",
      "10\n",
      "number is grater than >  10\n",
      "Enter any number between 1 to 30 \n",
      "12\n",
      "you win\n"
     ]
    }
   ],
   "source": [
    "#Question No# 5\n",
    "\n",
    "import random\n",
    "\n",
    "print(\"Guess the number (game)\")\n",
    "number = random.randint(1,30)\n",
    "\n",
    "print(\"you have three chance to win this game.\")\n",
    "    \n",
    "for x in (\"abc\"):\n",
    "    user_number = int(input(\"Enter any number between 1 to 30 \\n\"))\n",
    "    if user_number == number:\n",
    "        print(\"you win\")\n",
    "        break\n",
    "    if user_number >= number:\n",
    "        print(\"numberr is less than < \",user_number)\n",
    "    if user_number <= number:\n",
    "        print(\"number is grater than > \",user_number)\n",
    "else:\n",
    "    print(\"you lose\")\n",
    "    print(\"Answer and Random ganrated number is: \",number)"
   ]
  },
  {
   "cell_type": "code",
   "execution_count": null,
   "metadata": {},
   "outputs": [],
   "source": []
  },
  {
   "cell_type": "code",
   "execution_count": null,
   "metadata": {},
   "outputs": [],
   "source": []
  },
  {
   "cell_type": "code",
   "execution_count": null,
   "metadata": {},
   "outputs": [],
   "source": []
  },
  {
   "cell_type": "code",
   "execution_count": null,
   "metadata": {},
   "outputs": [],
   "source": []
  },
  {
   "cell_type": "code",
   "execution_count": null,
   "metadata": {},
   "outputs": [],
   "source": []
  }
 ],
 "metadata": {
  "kernelspec": {
   "display_name": "Python 3",
   "language": "python",
   "name": "python3"
  },
  "language_info": {
   "codemirror_mode": {
    "name": "ipython",
    "version": 3
   },
   "file_extension": ".py",
   "mimetype": "text/x-python",
   "name": "python",
   "nbconvert_exporter": "python",
   "pygments_lexer": "ipython3",
   "version": "3.7.4"
  }
 },
 "nbformat": 4,
 "nbformat_minor": 2
}
