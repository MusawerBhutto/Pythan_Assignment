{
 "cells": [
  {
   "cell_type": "code",
   "execution_count": 1,
   "metadata": {},
   "outputs": [
    {
     "name": "stdout",
     "output_type": "stream",
     "text": [
      "Enter Maths Number: 99\n",
      "Enter PST Number: 87\n",
      "Enter Urdu Number: 78\n",
      "Enter English Number: 78\n",
      "Enter Bio Number: 89\n",
      "your PER%:  86.2\n",
      "A+1 Grade\n"
     ]
    }
   ],
   "source": [
    "# question 01\n",
    "a = int(input(\"Enter Maths Number: \"))\n",
    "b = int(input(\"Enter PST Number: \"))\n",
    "c = int(input(\"Enter Urdu Number: \"))\n",
    "d = int(input(\"Enter English Number: \"))\n",
    "e = int(input(\"Enter Bio Number: \"))\n",
    "o_mark = a+b+c+d+e\n",
    "per = (o_mark / 500) * 100\n",
    "print(\"your PER%: \",per)\n",
    "if per >= 80 and per <= 100:\n",
    " print(\"A+1 Grade\")\n",
    "if per >= 70 and per < 80:\n",
    " print(\"A+ Grade\")\n",
    "if per >= 60 and per < 70:\n",
    " print(\"A Grade\")\n",
    "if per >= 50 and per < 60:\n",
    " print(\"B Grade\")\n",
    "if per >= 40 and per < 50:\n",
    " print(\"C Grade\")\n",
    "if per >= 30 and per < 40:\n",
    " print(\"D Grade\")\n",
    "if per >= 0 and per < 30:\n",
    " print(\"Your are Fail\")\n"
   ]
  },
  {
   "cell_type": "code",
   "execution_count": 1,
   "metadata": {},
   "outputs": [
    {
     "name": "stdout",
     "output_type": "stream",
     "text": [
      "enter number3\n",
      "odd no\n"
     ]
    }
   ],
   "source": [
    "# question 02\n",
    "x=int(input(\"enter number\"))\n",
    "if x%2==0:\n",
    "    print(\"even no\")\n",
    "else:\n",
    "    print(\"odd no\")"
   ]
  },
  {
   "cell_type": "code",
   "execution_count": 3,
   "metadata": {},
   "outputs": [
    {
     "name": "stdout",
     "output_type": "stream",
     "text": [
      "6\n"
     ]
    }
   ],
   "source": [
    "# question 03\n",
    "list=[22,21,33,44,55,231]\n",
    "print(len(list))"
   ]
  },
  {
   "cell_type": "code",
   "execution_count": 10,
   "metadata": {},
   "outputs": [
    {
     "name": "stdout",
     "output_type": "stream",
     "text": [
      "sum of list= 486\n"
     ]
    }
   ],
   "source": [
    "# question 04\n",
    "arry=[232,121,33,34,12,0,54]\n",
    "x=len(arry)\n",
    "sum=0\n",
    "for i in range (x):\n",
    "    sum=sum+arry[i]\n",
    "print(\"sum of list=\",sum)"
   ]
  },
  {
   "cell_type": "code",
   "execution_count": 5,
   "metadata": {},
   "outputs": [
    {
     "name": "stdout",
     "output_type": "stream",
     "text": [
      "55\n"
     ]
    }
   ],
   "source": [
    "# question 05\n",
    "list=[22,21,33,44,55]\n",
    "print(max(list))"
   ]
  },
  {
   "cell_type": "code",
   "execution_count": 9,
   "metadata": {},
   "outputs": [
    {
     "data": {
      "text/plain": [
       "[1, 1, 2, 3]"
      ]
     },
     "execution_count": 9,
     "metadata": {},
     "output_type": "execute_result"
    }
   ],
   "source": [
    "# question 06\n",
    "arr=[1,1,2,3,5,8,13,21,34,55,89]\n",
    "arr[:4]\n"
   ]
  },
  {
   "cell_type": "code",
   "execution_count": null,
   "metadata": {},
   "outputs": [],
   "source": []
  }
 ],
 "metadata": {
  "kernelspec": {
   "display_name": "Python 3",
   "language": "python",
   "name": "python3"
  },
  "language_info": {
   "codemirror_mode": {
    "name": "ipython",
    "version": 3
   },
   "file_extension": ".py",
   "mimetype": "text/x-python",
   "name": "python",
   "nbconvert_exporter": "python",
   "pygments_lexer": "ipython3",
   "version": "3.7.4"
  }
 },
 "nbformat": 4,
 "nbformat_minor": 2
}
