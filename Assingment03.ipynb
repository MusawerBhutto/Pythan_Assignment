{
 "cells": [
  {
   "cell_type": "code",
   "execution_count": 5,
   "metadata": {},
   "outputs": [
    {
     "name": "stdout",
     "output_type": "stream",
     "text": [
      "Enter Value1: 122\n",
      "Enter Value2: 2\n",
      "Enter Your Opreator/\n",
      "Division of  122 / 2  is Equal to  61\n"
     ]
    }
   ],
   "source": [
    "#Question No# 1\n",
    "value1 = int(input(\"Enter Value1: \"))\n",
    "value2 = int(input(\"Enter Value2: \"))\n",
    "opreator = input(\"Enter Your Opreator\")\n",
    "\n",
    "if opreator == '+':\n",
    "    re = value1 + value2\n",
    "    print(\"Addition of \",value1,opreator,value2,\" is Equal to \", re)\n",
    "elif opreator == '-':\n",
    "    re = value1 - value2\n",
    "    print(\"Subtraction of \",value1,opreator,value2,\" is Equal to \", re)\n",
    "elif opreator == '*':\n",
    "    re = value1 * value2\n",
    "    print(\"Multiplication of \",value1,opreator,value2,\" is Equal to \", re)\n",
    "elif opreator == '/':\n",
    "    re = value1 // value2\n",
    "    print(\"Division of \",value1,opreator,value2,\" is Equal to \", re)\n",
    "elif opreator == '**':\n",
    "    re = value1 ** value2\n",
    "    print(\"Power of \",value1, \" is \", re)\n",
    "else:\n",
    "    print(\"This is not ecceptble\")"
   ]
  },
  {
   "cell_type": "code",
   "execution_count": 6,
   "metadata": {},
   "outputs": [
    {
     "name": "stdout",
     "output_type": "stream",
     "text": [
      "This is numeric Value in your list:  345\n",
      "This is numeric Value in your list:  89\n"
     ]
    }
   ],
   "source": [
    "#Question No# 2\n",
    "arr = [\"Karachi\" , 345 , \"Yasir\" , 89 , 'Apple']\n",
    "\n",
    "for arr1 in arr:\n",
    "    if type(arr1) == int:\n",
    "        print(\"This is numeric Value in your list: \",arr1)\n",
    "    elif type(arr1) == float:\n",
    "        print(\"This is numeric Value in your list: \",arr1)"
   ]
  },
  {
   "cell_type": "code",
   "execution_count": 7,
   "metadata": {},
   "outputs": [
    {
     "name": "stdout",
     "output_type": "stream",
     "text": [
      "Enter key in dectionary: class\n",
      "Enter value in dectionary: teacher\n",
      "Enter key in dectionary: 12\n",
      "Enter value in dectionary: 1.0\n",
      "{'class': 'teacher', '12': '1.0'}\n"
     ]
    }
   ],
   "source": [
    "#Question No# 3\n",
    "saylani = {}\n",
    "key1 = input('Enter key in dectionary: ')\n",
    "value1 = input('Enter value in dectionary: ')\n",
    "key2 = input('Enter key in dectionary: ')\n",
    "value2 = input('Enter value in dectionary: ')\n",
    "saylani.update({key1:value1,key2:value2})\n",
    "print(saylani)"
   ]
  },
  {
   "cell_type": "code",
   "execution_count": 8,
   "metadata": {},
   "outputs": [
    {
     "name": "stdout",
     "output_type": "stream",
     "text": [
      "Sum of values\n",
      "110\n",
      "Sum of Keys\n",
      "56\n",
      "Sum of items in dectionary\n",
      "166\n"
     ]
    }
   ],
   "source": [
    "#Question No# 4\n",
    "t = {\n",
    "    1:12,12:43,43:55\n",
    "}\n",
    "print('Sum of values')\n",
    "tot=sum(t.values())\n",
    "print(tot)\n",
    "print('Sum of Keys')\n",
    "tot1=sum(t.keys())\n",
    "print(tot1)\n",
    "print('Sum of items in dectionary')\n",
    "tot2 = tot+tot1\n",
    "print(tot2)"
   ]
  },
  {
   "cell_type": "code",
   "execution_count": 9,
   "metadata": {},
   "outputs": [
    {
     "name": "stdout",
     "output_type": "stream",
     "text": [
      "Repeted item in list are [2, 'so', 11, 1]\n"
     ]
    }
   ],
   "source": [
    "#question No# 5\n",
    "List = [3,2,\"so\",11,\"so\",1,5,2,11,\"if\",1.00]\n",
    "list_range = len(List)\n",
    "repeated = []\n",
    "for i in range(list_range):\n",
    "    a = i + 1\n",
    "    for b in range(a, list_range):\n",
    "        if List[i] == List[b] and List[i] not in repeated:\n",
    "            repeated.append(List[i])\n",
    "print(\"Repeted item in list are\" , repeated)"
   ]
  },
  {
   "cell_type": "code",
   "execution_count": 10,
   "metadata": {},
   "outputs": [
    {
     "name": "stdout",
     "output_type": "stream",
     "text": [
      "Enter Key from dictionary to Check: karachi\n",
      "Given Key exist\n"
     ]
    }
   ],
   "source": [
    "#Question No# 6\n",
    "a = {\n",
    "    'ali' : 12,\n",
    "    1 : 15,\n",
    "    'karachi':'city',\n",
    "    'char':0,\n",
    "    100 : 17,\n",
    "    'sir': 'teacher',\n",
    "}\n",
    "b = input(\"Enter Key from dictionary to Check: \")\n",
    "c = False\n",
    "for i in a.keys():\n",
    "    if i == b:\n",
    "        c = True\n",
    "        break\n",
    "\n",
    "if c:\n",
    "    print(\"Given Key exist\")\n",
    "else:\n",
    "    print(\"Given Key dose not exist\")"
   ]
  },
  {
   "cell_type": "code",
   "execution_count": null,
   "metadata": {},
   "outputs": [],
   "source": []
  },
  {
   "cell_type": "code",
   "execution_count": null,
   "metadata": {},
   "outputs": [],
   "source": []
  },
  {
   "cell_type": "code",
   "execution_count": null,
   "metadata": {},
   "outputs": [],
   "source": []
  },
  {
   "cell_type": "code",
   "execution_count": null,
   "metadata": {},
   "outputs": [],
   "source": []
  },
  {
   "cell_type": "code",
   "execution_count": null,
   "metadata": {},
   "outputs": [],
   "source": []
  }
 ],
 "metadata": {
  "kernelspec": {
   "display_name": "Python 3",
   "language": "python",
   "name": "python3"
  },
  "language_info": {
   "codemirror_mode": {
    "name": "ipython",
    "version": 3
   },
   "file_extension": ".py",
   "mimetype": "text/x-python",
   "name": "python",
   "nbconvert_exporter": "python",
   "pygments_lexer": "ipython3",
   "version": "3.7.4"
  }
 },
 "nbformat": 4,
 "nbformat_minor": 2
}
