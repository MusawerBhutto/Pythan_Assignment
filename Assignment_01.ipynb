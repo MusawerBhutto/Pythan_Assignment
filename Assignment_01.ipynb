{
 "cells": [
  {
   "cell_type": "code",
   "execution_count": 2,
   "metadata": {},
   "outputs": [
    {
     "name": "stdout",
     "output_type": "stream",
     "text": [
      "Twinkle, twinkle, little star\n",
      "      How I wonder what you are!\n",
      "              up above the world so high,\n",
      "              like a diamond in the sky.\n",
      "Twinkle, twinkle, little star,\n",
      "      How I wonder what you are  \n"
     ]
    }
   ],
   "source": [
    "#Question No1\n",
    "print(\"Twinkle, twinkle, little star\")\n",
    "print(\"      How I wonder what you are!\")\n",
    "print(\"              up above the world so high,\")\n",
    "print(\"              like a diamond in the sky.\")\n",
    "print(\"Twinkle, twinkle, little star,\")\n",
    "print(\"      How I wonder what you are  \")"
   ]
  },
  {
   "cell_type": "code",
   "execution_count": 3,
   "metadata": {},
   "outputs": [
    {
     "name": "stdout",
     "output_type": "stream",
     "text": [
      "Python version\n",
      "3.7.4 (default, Aug  9 2019, 18:34:13) [MSC v.1915 64 bit (AMD64)]\n",
      "Version info.\n",
      "sys.version_info(major=3, minor=7, micro=4, releaselevel='final', serial=0)\n"
     ]
    }
   ],
   "source": [
    "#Question No2\n",
    "import sys\n",
    "print(\"Python version\")\n",
    "print (sys.version)\n",
    "print(\"Version info.\")\n",
    "print (sys.version_info)"
   ]
  },
  {
   "cell_type": "code",
   "execution_count": 4,
   "metadata": {},
   "outputs": [
    {
     "name": "stdout",
     "output_type": "stream",
     "text": [
      "2019-11-14 18:43:23.108608\n"
     ]
    }
   ],
   "source": [
    "#Question No3\n",
    "from datetime import datetime\n",
    "current=datetime.now()\n",
    "print(current)"
   ]
  },
  {
   "cell_type": "code",
   "execution_count": 8,
   "metadata": {},
   "outputs": [
    {
     "name": "stdout",
     "output_type": "stream",
     "text": [
      "Enter radius to calculate the Area:2\n",
      "12.568\n"
     ]
    }
   ],
   "source": [
    "#Question No4\n",
    "radius=int (input(\"Enter radius to calculate the Area:\"))\n",
    "b = radius ** 2\n",
    "area = 3.142\n",
    "a = b * area\n",
    "print(a)"
   ]
  },
  {
   "cell_type": "code",
   "execution_count": 10,
   "metadata": {},
   "outputs": [
    {
     "name": "stdout",
     "output_type": "stream",
     "text": [
      "Entet first name: MUSAWER\n",
      "Entet last name: ABDUL\n",
      "ABDUL MUSAWER\n"
     ]
    }
   ],
   "source": [
    "#Question No5\n",
    "firstname = input(\"Entet first name: \")\n",
    "lastname = input(\"Entet last name: \")\n",
    "print(lastname+\" \"+firstname)"
   ]
  },
  {
   "cell_type": "code",
   "execution_count": 12,
   "metadata": {},
   "outputs": [
    {
     "name": "stdout",
     "output_type": "stream",
     "text": [
      "Entet first number: 12\n",
      "Enter second munber: 12\n",
      "24\n"
     ]
    }
   ],
   "source": [
    "#Question No6\n",
    "firstnumber=int(input(\"Entet first number: \"))\n",
    "secondnumber=int(input(\"Enter second munber: \"))\n",
    "print(firstnumber + secondnumber)"
   ]
  },
  {
   "cell_type": "code",
   "execution_count": null,
   "metadata": {},
   "outputs": [],
   "source": []
  },
  {
   "cell_type": "code",
   "execution_count": null,
   "metadata": {},
   "outputs": [],
   "source": []
  }
 ],
 "metadata": {
  "kernelspec": {
   "display_name": "Python 3",
   "language": "python",
   "name": "python3"
  },
  "language_info": {
   "codemirror_mode": {
    "name": "ipython",
    "version": 3
   },
   "file_extension": ".py",
   "mimetype": "text/x-python",
   "name": "python",
   "nbconvert_exporter": "python",
   "pygments_lexer": "ipython3",
   "version": "3.7.4"
  }
 },
 "nbformat": 4,
 "nbformat_minor": 2
}
